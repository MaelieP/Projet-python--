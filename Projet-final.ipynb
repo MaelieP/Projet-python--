{
 "cells": [
  {
   "cell_type": "code",
   "execution_count": 2,
   "metadata": {},
   "outputs": [],
   "source": [
    "import pandas as pd\n",
    "import numpy as np\n",
    "import matplotlib.pyplot as plt\n",
    "import re\n",
    "from datetime import datetime\n",
    "import random\n",
    "import math \n",
    "from sklearn.linear_model import LinearRegression\n",
    "from sklearn.model_selection import train_test_split\n",
    "import sklearn.metrics\n",
    "#import seaborn as sns \n",
    "from sklearn.metrics import mean_squared_error"
   ]
  },
  {
   "cell_type": "markdown",
   "metadata": {},
   "source": [
    "# TITRE DE LA PRESENTATION\n",
    "\n",
    "Petit texte qui explique notre problématique etc..."
   ]
  },
  {
   "cell_type": "markdown",
   "metadata": {},
   "source": [
    "## PARTIE 1: RECUPERATION ET TRAITEMENT DES DONNEES\n",
    "\n",
    "Dans cette partie nous allons importer les différentes bases de données nécéssaires à notre travail et nous allons les réparer, les nettoyer et les assembler pour former notre base de données finale. \n",
    "\n",
    "Peut être expliquer pourquoi on prends les festival et le recensement ?"
   ]
  },
  {
   "cell_type": "code",
   "execution_count": 5,
   "metadata": {},
   "outputs": [],
   "source": [
    "## OUVERTURE DES FICHIERS CSV\n",
    "# URL du fichier CSV\n",
    "csv_url = 'https://www.data.gouv.fr/fr/datasets/r/47ac11c2-8a00-46a7-9fa8-9b802643f975'\n",
    "\n",
    "# Lire le fichier CSV depuis l'URL dans un DataFrame\n",
    "df_festival = pd.read_csv(csv_url, sep = ';')"
   ]
  },
  {
   "cell_type": "code",
   "execution_count": null,
   "metadata": {},
   "outputs": [],
   "source": [
    "# Observer nos données:\n",
    "print(df_festival)"
   ]
  }
 ],
 "metadata": {
  "kernelspec": {
   "display_name": "Python 3",
   "language": "python",
   "name": "python3"
  },
  "language_info": {
   "codemirror_mode": {
    "name": "ipython",
    "version": 3
   },
   "file_extension": ".py",
   "mimetype": "text/x-python",
   "name": "python",
   "nbconvert_exporter": "python",
   "pygments_lexer": "ipython3",
   "version": "3.10.11"
  }
 },
 "nbformat": 4,
 "nbformat_minor": 2
}
